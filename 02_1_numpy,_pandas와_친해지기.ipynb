{
  "nbformat": 4,
  "nbformat_minor": 0,
  "metadata": {
    "kernelspec": {
      "display_name": "Python 3",
      "language": "python",
      "name": "python3"
    },
    "language_info": {
      "codemirror_mode": {
        "name": "ipython",
        "version": 3
      },
      "file_extension": ".py",
      "mimetype": "text/x-python",
      "name": "python",
      "nbconvert_exporter": "python",
      "pygments_lexer": "ipython3",
      "version": "3.7.7"
    },
    "colab": {
      "name": "02-1-numpy, pandas와 친해지기.ipynb",
      "provenance": [],
      "collapsed_sections": [
        "wlVtKqVikvfQ",
        "KyBC9tvokvfS",
        "8hB9lPetkvfT"
      ]
    }
  },
  "cells": [
    {
      "cell_type": "markdown",
      "metadata": {
        "id": "TMlKoM2zkve3"
      },
      "source": [
        "# 개요\n",
        "\n",
        "1. numpy \n",
        "2. pandas\n",
        "3. torch로 vector, matrix 등 만들어보기\n",
        "\n",
        "## 참고자료\n",
        "* Official tutorial: https://docs.scipy.org/doc/numpy/reference/\n",
        "* Stanford Univ. CS231 tutorial: http://cs231n.github.io/python-numpy-tutorial/"
      ]
    },
    {
      "cell_type": "markdown",
      "metadata": {
        "id": "Q8oI03Y0kve_"
      },
      "source": [
        "## 1. numpy, array, matrix 등"
      ]
    },
    {
      "cell_type": "code",
      "metadata": {
        "id": "gpy6QUc-kvfB"
      },
      "source": [
        "import warnings\n",
        "warnings.filterwarnings(\"ignore\")\n",
        "#버전차이에서 나오는 워닝들을 무시하겠다."
      ],
      "execution_count": 3,
      "outputs": []
    },
    {
      "cell_type": "code",
      "metadata": {
        "id": "tvXkMAgAkvfB"
      },
      "source": [
        "import numpy as np"
      ],
      "execution_count": 1,
      "outputs": []
    },
    {
      "cell_type": "markdown",
      "metadata": {
        "id": "wjFAs6PrkvfC"
      },
      "source": [
        "### 리스트, 행렬 선언"
      ]
    },
    {
      "cell_type": "code",
      "metadata": {
        "colab": {
          "base_uri": "https://localhost:8080/"
        },
        "id": "q1vBZhrHkvfC",
        "outputId": "fef1872d-cba1-4d44-b44a-6bcc60d51359"
      },
      "source": [
        "# list_name(변수명 설정) = [\"item-1\", \"item-2\", ... , \"item-n\"]\n",
        "\n",
        "a = [1, 2, 3]\n",
        "b = [\"a\", \"b\", \"c\"]\n",
        "c = [[\"a\"], [\"a\", \"b\"], [\"a\", \"c\"], [\"a\", \"b\", \"c\"]]\n",
        "\n",
        "print(a)\n",
        "print(b)\n",
        "print(c)"
      ],
      "execution_count": 9,
      "outputs": [
        {
          "output_type": "stream",
          "text": [
            "[1, 2, 3]\n",
            "['a', 'b', 'c']\n",
            "[['a'], ['a', 'b'], ['a', 'c'], ['a', 'b', 'c']]\n"
          ],
          "name": "stdout"
        }
      ]
    },
    {
      "cell_type": "code",
      "metadata": {
        "colab": {
          "base_uri": "https://localhost:8080/"
        },
        "id": "UfxbIQXfkvfD",
        "outputId": "8e00cd50-2051-4746-a875-2407d439376b"
      },
      "source": [
        "# append()로 리스트에 item 추가하기\n",
        "c.append('new_item')\n",
        "c.append(['new_item_list'])\n",
        "\n",
        "print(c)"
      ],
      "execution_count": 10,
      "outputs": [
        {
          "output_type": "stream",
          "text": [
            "[['a'], ['a', 'b'], ['a', 'c'], ['a', 'b', 'c'], 'new_item', ['new_item_list']]\n"
          ],
          "name": "stdout"
        }
      ]
    },
    {
      "cell_type": "code",
      "metadata": {
        "colab": {
          "base_uri": "https://localhost:8080/"
        },
        "id": "fmlCMnGokvfD",
        "outputId": "3a805d14-dc3a-4316-b7d1-b0a110ee14d3"
      },
      "source": [
        "a = np.array([1, 2, 3])\n",
        "b = np.array([\"a\", \"b\", \"c\"])\n",
        "c = np.array([[\"a\"], [\"a\", \"b\"], [\"a\", \"c\"], [\"a\", \"b\", \"c\"]])\n",
        "\n",
        "print(a)\n",
        "print(b)\n",
        "print(c)"
      ],
      "execution_count": 7,
      "outputs": [
        {
          "output_type": "stream",
          "text": [
            "[1 2 3]\n",
            "['a' 'b' 'c']\n",
            "[list(['a']) list(['a', 'b']) list(['a', 'c']) list(['a', 'b', 'c'])]\n"
          ],
          "name": "stdout"
        }
      ]
    },
    {
      "cell_type": "code",
      "metadata": {
        "id": "RHLn2eUVkvfD"
      },
      "source": [
        "# 배열(또는 행렬)을 1로 채우기\n",
        "print(np.ones((1, 5))) #5개의 컬럼을 가진 1행을 1로 채우겠다.\n",
        "print(np.ones((3, 2))) #2개의 컬럼을 가진 3행을 1로 채우겠다."
      ],
      "execution_count": null,
      "outputs": []
    },
    {
      "cell_type": "code",
      "metadata": {
        "id": "X60ZvxGjkvfE"
      },
      "source": [
        "# 배열(또는 행렬)을 0으로 채우기\n",
        "print(np.zeros((1, 5))) #2개의 컬럼을 가진 3행을 0으로 채우겠다.\n",
        "print(np.zeros((3, 2))) #2개의 컬럼을 가진 3행을 0으로 채우겠다."
      ],
      "execution_count": null,
      "outputs": []
    },
    {
      "cell_type": "code",
      "metadata": {
        "colab": {
          "base_uri": "https://localhost:8080/"
        },
        "id": "ir5xH2SfkvfE",
        "outputId": "400efe53-e4f2-4692-c21f-c00bc4196f4d"
      },
      "source": [
        "# 주어진 범위 안에서 순차적으로 증가하는 리스트 만들기\n",
        "# np.arange([start,] stop, [step, ] dtype=None)\n",
        "\n",
        "print(np.arange(10))\n",
        "print(np.arange(3,7, dtype=np.float))\n",
        "print(np.arange(3,10,2))\n",
        "\n",
        "#arange의 기능. \n",
        "#값을 하나만 입력할 경우 0부터 입력값 직전까지 순차적으로 하나씩 증가하는 리스트를 만들고.\n",
        "#2개 입력 = 시작값과 종료값. 이때 종료값의 직전까지 리스트로 나타냄\n",
        "#3개 입력 = 시작값, 종료값, 인터벌"
      ],
      "execution_count": 11,
      "outputs": [
        {
          "output_type": "stream",
          "text": [
            "[0 1 2 3 4 5 6 7 8 9]\n",
            "[3. 4. 5. 6.]\n",
            "[3 5 7 9]\n"
          ],
          "name": "stdout"
        }
      ]
    },
    {
      "cell_type": "code",
      "metadata": {
        "colab": {
          "base_uri": "https://localhost:8080/"
        },
        "id": "_FnPvkeRkvfF",
        "outputId": "c15bc7fe-e56b-4457-81a5-920f1c1be10b"
      },
      "source": [
        "# 행렬 선언하기\n",
        "mat1 = np.array([[1,2,3],[4,5,6]])\n",
        "\n",
        "# random으로 matrix 만들기\n",
        "mat2 = np.random.randint(low=1, high=10, size=(3,2))\n",
        "# 최소값은 1로, 최대값은 10, 3행 2열의 리스트를 랜덤으로\n",
        "mat3 = np.random.rand(3,2)\n",
        "# 3x2 사이즈의 리스트를 랜덤하게 만든다. rand는 실수,\n",
        "\n",
        "print(mat1)\n",
        "print(mat2)\n",
        "print(mat3)"
      ],
      "execution_count": 12,
      "outputs": [
        {
          "output_type": "stream",
          "text": [
            "[[1 2 3]\n",
            " [4 5 6]]\n",
            "[[6 6]\n",
            " [6 4]\n",
            " [1 7]]\n",
            "[[0.21353137 0.5803286 ]\n",
            " [0.37338214 0.83025624]\n",
            " [0.29842041 0.67949273]]\n"
          ],
          "name": "stdout"
        }
      ]
    },
    {
      "cell_type": "markdown",
      "metadata": {
        "id": "rF8uVIDGkvfF"
      },
      "source": [
        "### 리스트 인덱싱(Indexing) & 슬라이싱(Slicing)"
      ]
    },
    {
      "cell_type": "code",
      "metadata": {
        "id": "0-DOIVfOkvfG"
      },
      "source": [
        "# Indexing\n",
        "a = [1,3,5,7,9,11]\n",
        "print(a[2], a[5], a[-1])\n",
        "#-1번지는 마지막"
      ],
      "execution_count": null,
      "outputs": []
    },
    {
      "cell_type": "code",
      "metadata": {
        "id": "gXEitTg3kvfG"
      },
      "source": [
        "# Slicing\n",
        "b = [2,4,6,8,10]\n",
        "print(b[2:]) #2번부터 끝까지\n",
        "print(b[:2]) #2번까지\n",
        "print(b[:]) #전체 배열"
      ],
      "execution_count": null,
      "outputs": []
    },
    {
      "cell_type": "markdown",
      "metadata": {
        "id": "RurByU5AkvfG"
      },
      "source": [
        "### numpy의 reshape (PyTorch의 view와 비교)"
      ]
    },
    {
      "cell_type": "code",
      "metadata": {
        "colab": {
          "base_uri": "https://localhost:8080/"
        },
        "id": "-i5fXfVMkvfH",
        "outputId": "74c8926d-1818-45fd-880e-3e6c86e0324f"
      },
      "source": [
        "# (row, column)\n",
        "mat1 = np.random.rand(6,3)\n",
        "print(mat1)"
      ],
      "execution_count": 13,
      "outputs": [
        {
          "output_type": "stream",
          "text": [
            "[[0.64972745 0.11874656 0.31260641]\n",
            " [0.29470743 0.2029421  0.35462444]\n",
            " [0.724832   0.29429586 0.19196573]\n",
            " [0.3084738  0.03296973 0.02716816]\n",
            " [0.68759845 0.01595356 0.23215847]\n",
            " [0.77284347 0.07457119 0.29388426]]\n"
          ],
          "name": "stdout"
        }
      ]
    },
    {
      "cell_type": "code",
      "metadata": {
        "colab": {
          "base_uri": "https://localhost:8080/"
        },
        "id": "5euhwgpWkvfH",
        "outputId": "f953ef85-55b5-49c2-826f-649b06d86b58"
      },
      "source": [
        "# -1: all\n",
        "print(mat1.reshape(1, -1).shape)\n",
        "print(mat1.reshape(1, -1))\n",
        "print(\"=====\")\n",
        "print(mat1.reshape(-1, 1).shape)\n",
        "print(mat1.reshape(-1, 1))\n",
        "\n",
        "#reshape(1,-1) 1개의 행으로 끝까지 재정렬\n",
        "#reshape(-1,1) 1개의 열로 끝까지 재정렬\n",
        "#-1은 x값이라고 생각하면 될듯.\n",
        "#주어진 정보(행/열)이 불확실할때 사용"
      ],
      "execution_count": 14,
      "outputs": [
        {
          "output_type": "stream",
          "text": [
            "(1, 18)\n",
            "[[0.64972745 0.11874656 0.31260641 0.29470743 0.2029421  0.35462444\n",
            "  0.724832   0.29429586 0.19196573 0.3084738  0.03296973 0.02716816\n",
            "  0.68759845 0.01595356 0.23215847 0.77284347 0.07457119 0.29388426]]\n",
            "=====\n",
            "(18, 1)\n",
            "[[0.64972745]\n",
            " [0.11874656]\n",
            " [0.31260641]\n",
            " [0.29470743]\n",
            " [0.2029421 ]\n",
            " [0.35462444]\n",
            " [0.724832  ]\n",
            " [0.29429586]\n",
            " [0.19196573]\n",
            " [0.3084738 ]\n",
            " [0.03296973]\n",
            " [0.02716816]\n",
            " [0.68759845]\n",
            " [0.01595356]\n",
            " [0.23215847]\n",
            " [0.77284347]\n",
            " [0.07457119]\n",
            " [0.29388426]]\n"
          ],
          "name": "stdout"
        }
      ]
    },
    {
      "cell_type": "code",
      "metadata": {
        "id": "Nk8wD7KckvfH"
      },
      "source": [
        "print(mat1.reshape(2, 9).shape)\n",
        "print(mat1.reshape(9, 2))"
      ],
      "execution_count": null,
      "outputs": []
    },
    {
      "cell_type": "code",
      "metadata": {
        "colab": {
          "base_uri": "https://localhost:8080/",
          "height": 169
        },
        "id": "Rz5Dr9E6kvfI",
        "outputId": "bfa4b6f9-2496-49e0-e1b5-0ae94122d376"
      },
      "source": [
        "mat1.reshape(2,5)\r\n",
        "#가지고 있는 숫자는 18개이기 때문에 2,5로 리셰이프를 하면 사이즈가 맞지 않기 때문에 오류가 난다."
      ],
      "execution_count": 15,
      "outputs": [
        {
          "output_type": "error",
          "ename": "ValueError",
          "evalue": "ignored",
          "traceback": [
            "\u001b[0;31m---------------------------------------------------------------------------\u001b[0m",
            "\u001b[0;31mValueError\u001b[0m                                Traceback (most recent call last)",
            "\u001b[0;32m<ipython-input-15-634a26252eb7>\u001b[0m in \u001b[0;36m<module>\u001b[0;34m()\u001b[0m\n\u001b[0;32m----> 1\u001b[0;31m \u001b[0mmat1\u001b[0m\u001b[0;34m.\u001b[0m\u001b[0mreshape\u001b[0m\u001b[0;34m(\u001b[0m\u001b[0;36m2\u001b[0m\u001b[0;34m,\u001b[0m\u001b[0;36m5\u001b[0m\u001b[0;34m)\u001b[0m\u001b[0;34m\u001b[0m\u001b[0;34m\u001b[0m\u001b[0m\n\u001b[0m",
            "\u001b[0;31mValueError\u001b[0m: cannot reshape array of size 18 into shape (2,5)"
          ]
        }
      ]
    },
    {
      "cell_type": "code",
      "metadata": {
        "id": "FxvjHJ54kvfI"
      },
      "source": [
        "# tensor 형태로 나타내기\n",
        "print(mat1.reshape(3,2,3).shape)\n",
        "print(mat1.reshape(3,2,3))\n",
        "#벡터 : 행 또는 열이 하나인 것\n",
        "#매트릭스 : 행과 열이 하나 이상인 것\n",
        "#텐서 : 3차원 이상의 행열을 표현할때 사용"
      ],
      "execution_count": null,
      "outputs": []
    },
    {
      "cell_type": "markdown",
      "metadata": {
        "id": "plud0jrYkvfI"
      },
      "source": [
        "### matrix 또는 tensor 형태에서도 slicing이 가능합니다!"
      ]
    },
    {
      "cell_type": "code",
      "metadata": {
        "colab": {
          "base_uri": "https://localhost:8080/"
        },
        "id": "9LTyThYnkvfI",
        "outputId": "06211e23-de5e-4528-e745-687c8e414942"
      },
      "source": [
        "mat2 = np.arange(24).reshape(-1, 4)\n",
        "print(mat2)"
      ],
      "execution_count": 16,
      "outputs": [
        {
          "output_type": "stream",
          "text": [
            "[[ 0  1  2  3]\n",
            " [ 4  5  6  7]\n",
            " [ 8  9 10 11]\n",
            " [12 13 14 15]\n",
            " [16 17 18 19]\n",
            " [20 21 22 23]]\n"
          ],
          "name": "stdout"
        }
      ]
    },
    {
      "cell_type": "code",
      "metadata": {
        "colab": {
          "base_uri": "https://localhost:8080/"
        },
        "id": "n_Uk6TwokvfJ",
        "outputId": "de282eaa-b53a-4728-8b8c-b4ab25f8d87b"
      },
      "source": [
        "mat2[:1,:3]\r\n",
        "#행의 1번째까지, 열의 3번째까지 가져오는것이기 때문에 첫번째 행인 0, 1, 2, 3 중 3번쨰 열인 0, 1, 2 만 불러옴"
      ],
      "execution_count": 17,
      "outputs": [
        {
          "output_type": "execute_result",
          "data": {
            "text/plain": [
              "array([[0, 1, 2]])"
            ]
          },
          "metadata": {
            "tags": []
          },
          "execution_count": 17
        }
      ]
    },
    {
      "cell_type": "code",
      "metadata": {
        "colab": {
          "base_uri": "https://localhost:8080/"
        },
        "id": "JUx0ePoQkvfJ",
        "outputId": "6c6eeb85-27d7-466b-f8e1-ece037627a35"
      },
      "source": [
        "mat2[3, 0:2]\r\n",
        "#3번 행인 12 13 14 15 부터 0부터 2까지 가져오기, 12 13만 가져옴"
      ],
      "execution_count": 18,
      "outputs": [
        {
          "output_type": "execute_result",
          "data": {
            "text/plain": [
              "array([12, 13])"
            ]
          },
          "metadata": {
            "tags": []
          },
          "execution_count": 18
        }
      ]
    },
    {
      "cell_type": "markdown",
      "metadata": {
        "id": "GCDujq_FkvfJ"
      },
      "source": [
        "### Math Arithmetic Operations(사칙연산)"
      ]
    },
    {
      "cell_type": "code",
      "metadata": {
        "colab": {
          "base_uri": "https://localhost:8080/"
        },
        "id": "yKcVRYuFkvfJ",
        "outputId": "37818e75-3a09-4567-e7b0-c55907ff5589"
      },
      "source": [
        "x = np.array([[1,3,5],[7,9,11],[13,15,17]])\n",
        "y = np.array([[2,4,6],[8,10,12],[14,16,18]])\n",
        "\n",
        "print(x)\n",
        "print(y)"
      ],
      "execution_count": 19,
      "outputs": [
        {
          "output_type": "stream",
          "text": [
            "[[ 1  3  5]\n",
            " [ 7  9 11]\n",
            " [13 15 17]]\n",
            "[[ 2  4  6]\n",
            " [ 8 10 12]\n",
            " [14 16 18]]\n"
          ],
          "name": "stdout"
        }
      ]
    },
    {
      "cell_type": "code",
      "metadata": {
        "colab": {
          "base_uri": "https://localhost:8080/"
        },
        "id": "ZTaGCOOPkvfJ",
        "outputId": "0632f842-36ba-47d5-85a6-3b8b81038c4b"
      },
      "source": [
        "# add\n",
        "x + y\n",
        "#같은 사이즈의 행열끼리 덧셈"
      ],
      "execution_count": 20,
      "outputs": [
        {
          "output_type": "execute_result",
          "data": {
            "text/plain": [
              "array([[ 3,  7, 11],\n",
              "       [15, 19, 23],\n",
              "       [27, 31, 35]])"
            ]
          },
          "metadata": {
            "tags": []
          },
          "execution_count": 20
        }
      ]
    },
    {
      "cell_type": "code",
      "metadata": {
        "colab": {
          "base_uri": "https://localhost:8080/"
        },
        "id": "1D7-zJBzkvfK",
        "outputId": "c510bb36-682f-4b8c-ab4c-9b6cf3ca6c79"
      },
      "source": [
        "x - y"
      ],
      "execution_count": 23,
      "outputs": [
        {
          "output_type": "execute_result",
          "data": {
            "text/plain": [
              "array([[-1, -1, -1],\n",
              "       [-1, -1, -1],\n",
              "       [-1, -1, -1]])"
            ]
          },
          "metadata": {
            "tags": []
          },
          "execution_count": 23
        }
      ]
    },
    {
      "cell_type": "code",
      "metadata": {
        "colab": {
          "base_uri": "https://localhost:8080/"
        },
        "id": "vjJr51uQkvfK",
        "outputId": "4ac85915-2e61-44b0-e885-b29f591eb412"
      },
      "source": [
        "x * y"
      ],
      "execution_count": 21,
      "outputs": [
        {
          "output_type": "execute_result",
          "data": {
            "text/plain": [
              "array([[  2,  12,  30],\n",
              "       [ 56,  90, 132],\n",
              "       [182, 240, 306]])"
            ]
          },
          "metadata": {
            "tags": []
          },
          "execution_count": 21
        }
      ]
    },
    {
      "cell_type": "code",
      "metadata": {
        "colab": {
          "base_uri": "https://localhost:8080/"
        },
        "id": "2hh_4htGkvfK",
        "outputId": "b5f430b6-d628-4024-b692-a9e2916ada0a"
      },
      "source": [
        "x / y"
      ],
      "execution_count": 22,
      "outputs": [
        {
          "output_type": "execute_result",
          "data": {
            "text/plain": [
              "array([[0.5       , 0.75      , 0.83333333],\n",
              "       [0.875     , 0.9       , 0.91666667],\n",
              "       [0.92857143, 0.9375    , 0.94444444]])"
            ]
          },
          "metadata": {
            "tags": []
          },
          "execution_count": 22
        }
      ]
    },
    {
      "cell_type": "code",
      "metadata": {
        "colab": {
          "base_uri": "https://localhost:8080/"
        },
        "id": "xbnjxJ4fkvfK",
        "outputId": "d4c46303-5302-4ba4-df25-bab8c80859c4"
      },
      "source": [
        "print(x ** 2)\n",
        "print(np.power(x, 2))"
      ],
      "execution_count": 24,
      "outputs": [
        {
          "output_type": "stream",
          "text": [
            "[[  1   9  25]\n",
            " [ 49  81 121]\n",
            " [169 225 289]]\n",
            "[[  1   9  25]\n",
            " [ 49  81 121]\n",
            " [169 225 289]]\n"
          ],
          "name": "stdout"
        }
      ]
    },
    {
      "cell_type": "code",
      "metadata": {
        "colab": {
          "base_uri": "https://localhost:8080/"
        },
        "id": "vFETw0o4kvfL",
        "outputId": "eff4dc8e-1876-4ae8-e9d6-73bb6339e728"
      },
      "source": [
        "np.dot(x, y)\r\n",
        "#내적 구하기"
      ],
      "execution_count": 25,
      "outputs": [
        {
          "output_type": "execute_result",
          "data": {
            "text/plain": [
              "array([[ 96, 114, 132],\n",
              "       [240, 294, 348],\n",
              "       [384, 474, 564]])"
            ]
          },
          "metadata": {
            "tags": []
          },
          "execution_count": 25
        }
      ]
    },
    {
      "cell_type": "code",
      "metadata": {
        "id": "JhDccWM0kvfL"
      },
      "source": [
        "np.sqrt(x)\r\n",
        "#제곱근 구하기"
      ],
      "execution_count": null,
      "outputs": []
    },
    {
      "cell_type": "code",
      "metadata": {
        "colab": {
          "base_uri": "https://localhost:8080/"
        },
        "id": "gUwL1ViBkvfL",
        "outputId": "5477d447-579f-4b7a-a19c-e82d5a0b418c"
      },
      "source": [
        "# More on matrix operation\n",
        "z1 = np.array([[2,2,2]])\n",
        "z2 = np.array([[2,2]])\n",
        "\n",
        "x * z1"
      ],
      "execution_count": 26,
      "outputs": [
        {
          "output_type": "execute_result",
          "data": {
            "text/plain": [
              "array([[ 2,  6, 10],\n",
              "       [14, 18, 22],\n",
              "       [26, 30, 34]])"
            ]
          },
          "metadata": {
            "tags": []
          },
          "execution_count": 26
        }
      ]
    },
    {
      "cell_type": "code",
      "metadata": {
        "id": "fFlGKpTckvfL"
      },
      "source": [
        "print(z2.shape)\n",
        "print(x.shape)\n",
        "print(x * z2)"
      ],
      "execution_count": null,
      "outputs": []
    },
    {
      "cell_type": "code",
      "metadata": {
        "colab": {
          "base_uri": "https://localhost:8080/"
        },
        "id": "ldV--i5pkvfM",
        "outputId": "1a61c2a1-25c7-4722-c947-54f969d1417f"
      },
      "source": [
        "# 합\n",
        "print(x)\n",
        "print(x.sum(axis = 0))#열끼리\n",
        "print(x.sum(axis = 1))#행끼리"
      ],
      "execution_count": 27,
      "outputs": [
        {
          "output_type": "stream",
          "text": [
            "[[ 1  3  5]\n",
            " [ 7  9 11]\n",
            " [13 15 17]]\n",
            "[21 27 33]\n",
            "[ 9 27 45]\n"
          ],
          "name": "stdout"
        }
      ]
    },
    {
      "cell_type": "code",
      "metadata": {
        "id": "sQr03m0TkvfM"
      },
      "source": [
        "# 평균\n",
        "print(x)\n",
        "print(x.mean(axis = 0))\n",
        "print(x.mean(axis = 1))"
      ],
      "execution_count": null,
      "outputs": []
    },
    {
      "cell_type": "code",
      "metadata": {
        "id": "v-Rtua6wkvfM"
      },
      "source": [
        "# 표준편차\n",
        "print(x)\n",
        "print(x.std(axis = 0))\n",
        "print(x.std(axis = 1))"
      ],
      "execution_count": null,
      "outputs": []
    },
    {
      "cell_type": "code",
      "metadata": {
        "id": "JDO2sCdqkvfM"
      },
      "source": [
        "print(x.T)\n",
        "print(np.dot(x, z1.T))"
      ],
      "execution_count": null,
      "outputs": []
    },
    {
      "cell_type": "markdown",
      "metadata": {
        "id": "LfVkchs4kvfN"
      },
      "source": [
        "### Other operations"
      ]
    },
    {
      "cell_type": "code",
      "metadata": {
        "id": "WZpJ0JlVkvfN"
      },
      "source": [
        "xx = np.random.rand(15)\n",
        "print(xx)"
      ],
      "execution_count": null,
      "outputs": []
    },
    {
      "cell_type": "code",
      "metadata": {
        "id": "IIkSMjqnkvfN"
      },
      "source": [
        "print(xx)\n",
        "print(xx.argsort()) # axis를 활용해서 행렬(matrix)에도 적용할 수 있다.\n",
        "#argsort : index번호를 알려줌\n",
        "xx.sort()\n",
        "print(xx)"
      ],
      "execution_count": null,
      "outputs": []
    },
    {
      "cell_type": "markdown",
      "metadata": {
        "id": "57SB6LuNkvfO"
      },
      "source": [
        "## 2. Pandas\n",
        "\n",
        "* https://pandas.pydata.org/pandas-docs/stable/"
      ]
    },
    {
      "cell_type": "code",
      "metadata": {
        "id": "4e4-SmmVkvfO"
      },
      "source": [
        "import pandas as pd"
      ],
      "execution_count": 31,
      "outputs": []
    },
    {
      "cell_type": "markdown",
      "metadata": {
        "id": "3S318KXNkvfO"
      },
      "source": [
        "### Pandas Series 만들기\n",
        "\n",
        "* pandas series는 1차원 데이터 집합"
      ]
    },
    {
      "cell_type": "code",
      "metadata": {
        "colab": {
          "base_uri": "https://localhost:8080/"
        },
        "id": "HiYJrLxRkvfO",
        "outputId": "22c37c34-ca05-44c0-abc7-d6be9918d843"
      },
      "source": [
        "pd_series = pd.Series(index = ['a','b','c','d','e'], data=[1,2,3,4,5])\n",
        "#index값, data:밸류\n",
        "pd_series"
      ],
      "execution_count": 32,
      "outputs": [
        {
          "output_type": "execute_result",
          "data": {
            "text/plain": [
              "a    1\n",
              "b    2\n",
              "c    3\n",
              "d    4\n",
              "e    5\n",
              "dtype: int64"
            ]
          },
          "metadata": {
            "tags": []
          },
          "execution_count": 32
        }
      ]
    },
    {
      "cell_type": "code",
      "metadata": {
        "colab": {
          "base_uri": "https://localhost:8080/"
        },
        "id": "rPd_DJonkvfP",
        "outputId": "cac16960-d160-4362-d5a9-c8ff303c3f46"
      },
      "source": [
        "# Pandas Series의 기초 정보\n",
        "print('차원:', pd_series.ndim)\n",
        "print('형태: ', pd_series.shape)\n",
        "print('총 원소의 수:', pd_series.size)\n",
        "\n",
        "print('값:', pd_series.values)\n",
        "print('인덱스:', pd_series.index)"
      ],
      "execution_count": 33,
      "outputs": [
        {
          "output_type": "stream",
          "text": [
            "차원: 1\n",
            "형태:  (5,)\n",
            "총 원소의 수: 5\n",
            "값: [1 2 3 4 5]\n",
            "인덱스: Index(['a', 'b', 'c', 'd', 'e'], dtype='object')\n"
          ],
          "name": "stdout"
        }
      ]
    },
    {
      "cell_type": "markdown",
      "metadata": {
        "id": "O-hDOH9GkvfP"
      },
      "source": [
        "### index를 활용한 데이터 탐색"
      ]
    },
    {
      "cell_type": "code",
      "metadata": {
        "colab": {
          "base_uri": "https://localhost:8080/"
        },
        "id": "sodNQbMYkvfP",
        "outputId": "42165eee-7aca-47f0-a663-13ea42c0785e"
      },
      "source": [
        "# loc(index를 활용하여 access), iloc(integer location)\n",
        "\n",
        "print(pd_series.loc['a'])\n",
        "print(pd_series.iloc[0])\n",
        "\n",
        "print(pd_series.loc[['a','c']])\n",
        "print(pd_series.iloc[[0,2]])"
      ],
      "execution_count": 39,
      "outputs": [
        {
          "output_type": "stream",
          "text": [
            "1\n",
            "1\n",
            "a    1\n",
            "c    3\n",
            "dtype: int64\n",
            "a    1\n",
            "c    3\n",
            "dtype: int64\n"
          ],
          "name": "stdout"
        }
      ]
    },
    {
      "cell_type": "markdown",
      "metadata": {
        "id": "ks5SGBpckvfQ"
      },
      "source": [
        "### 데이터 삭제"
      ]
    },
    {
      "cell_type": "code",
      "metadata": {
        "id": "wjV5-DrTkvfQ"
      },
      "source": [
        "pd_series.drop('b')"
      ],
      "execution_count": null,
      "outputs": []
    },
    {
      "cell_type": "code",
      "metadata": {
        "id": "xiyiFCVNkvfQ"
      },
      "source": [
        "print(pd_series)\n",
        "pd_series.drop('b', inplace=True)#인플레이스 true를 해줘야 완전히 삭제됨\n",
        "print(pd_series)"
      ],
      "execution_count": null,
      "outputs": []
    },
    {
      "cell_type": "markdown",
      "metadata": {
        "id": "wlVtKqVikvfQ"
      },
      "source": [
        "### Pandas Dataframe 만들기\n",
        "\n",
        "* 2차원 데이터 집합. 행렬과 비슷하게 row와 column을 갖고 있다"
      ]
    },
    {
      "cell_type": "code",
      "metadata": {
        "id": "djqX2hHQkvfR"
      },
      "source": [
        "data = {\n",
        "    'A': np.arange(15),\n",
        "    'B': np.random.randint(low=0, high=15, size=(15)),\n",
        "    'C': np.random.rand(15)\n",
        "}\n",
        "\n",
        "data_df = pd.DataFrame(data)"
      ],
      "execution_count": null,
      "outputs": []
    },
    {
      "cell_type": "code",
      "metadata": {
        "id": "ig1ttYudkvfR"
      },
      "source": [
        "data_df.head()"
      ],
      "execution_count": null,
      "outputs": []
    },
    {
      "cell_type": "code",
      "metadata": {
        "id": "sgM1W0FtkvfR"
      },
      "source": [
        "data_df.tail()"
      ],
      "execution_count": null,
      "outputs": []
    },
    {
      "cell_type": "code",
      "metadata": {
        "id": "umOPzAM8kvfR"
      },
      "source": [
        "data_df.shape"
      ],
      "execution_count": null,
      "outputs": []
    },
    {
      "cell_type": "markdown",
      "metadata": {
        "id": "KyBC9tvokvfS"
      },
      "source": [
        "### Indexing and Slicing"
      ]
    },
    {
      "cell_type": "code",
      "metadata": {
        "id": "vaxecbDdkvfS"
      },
      "source": [
        "data_df[1:3]"
      ],
      "execution_count": null,
      "outputs": []
    },
    {
      "cell_type": "code",
      "metadata": {
        "id": "C9HkjS_BkvfS"
      },
      "source": [
        "data_df.loc[1]"
      ],
      "execution_count": null,
      "outputs": []
    },
    {
      "cell_type": "code",
      "metadata": {
        "id": "PL5JqEkRkvfS"
      },
      "source": [
        "data_df.loc[1]['C']"
      ],
      "execution_count": null,
      "outputs": []
    },
    {
      "cell_type": "markdown",
      "metadata": {
        "id": "8hB9lPetkvfT"
      },
      "source": [
        "### Add, Remove and etc"
      ]
    },
    {
      "cell_type": "code",
      "metadata": {
        "id": "ae0_XMsukvfT"
      },
      "source": [
        "data_df['D'] = data_df['A'] >= 5\n",
        "data_df"
      ],
      "execution_count": null,
      "outputs": []
    },
    {
      "cell_type": "code",
      "metadata": {
        "id": "5xWopnIokvfT"
      },
      "source": [
        "data_df.drop('D', axis=1, inplace=True)"
      ],
      "execution_count": null,
      "outputs": []
    },
    {
      "cell_type": "code",
      "metadata": {
        "id": "hL3KxRDnkvfT"
      },
      "source": [
        "data_df.sort_index(axis=0, ascending=False)"
      ],
      "execution_count": null,
      "outputs": []
    },
    {
      "cell_type": "code",
      "metadata": {
        "id": "zGQeJRTBkvfU"
      },
      "source": [
        ""
      ],
      "execution_count": null,
      "outputs": []
    }
  ]
}